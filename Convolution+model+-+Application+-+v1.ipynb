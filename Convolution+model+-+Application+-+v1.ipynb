{
 "cells": [
  {
   "cell_type": "markdown",
   "metadata": {},
   "source": [
    "# Convolutional Neural Networks: Application\n",
    "\n",
    "Welcome to Course 4's second assignment! In this notebook, you will:\n",
    "\n",
    "- Implement helper functions that you will use when implementing a TensorFlow model\n",
    "- Implement a fully functioning ConvNet using TensorFlow \n",
    "\n",
    "**After this assignment you will be able to:**\n",
    "\n",
    "- Build and train a ConvNet in TensorFlow for a classification problem \n",
    "\n",
    "We assume here that you are already familiar with TensorFlow. If you are not, please refer the *TensorFlow Tutorial* of the third week of Course 2 (\"*Improving deep neural networks*\")."
   ]
  },
  {
   "cell_type": "markdown",
   "metadata": {},
   "source": [
    "## 1.0 - TensorFlow model\n",
    "\n",
    "In the previous assignment, you built helper functions using numpy to understand the mechanics behind convolutional neural networks. Most practical applications of deep learning today are built using programming frameworks, which have many built-in functions you can simply call. \n",
    "\n",
    "As usual, we will start by loading in the packages. "
   ]
  },
  {
   "cell_type": "code",
   "execution_count": 1,
   "metadata": {
    "collapsed": true
   },
   "outputs": [],
   "source": [
    "import math\n",
    "import numpy as np\n",
    "import h5py\n",
    "import matplotlib.pyplot as plt\n",
    "import scipy\n",
    "from PIL import Image\n",
    "from scipy import ndimage\n",
    "import tensorflow as tf\n",
    "from tensorflow.python.framework import ops\n",
    "from cnn_utils import *\n",
    "\n",
    "%matplotlib inline\n",
    "np.random.seed(1)"
   ]
  },
  {
   "cell_type": "markdown",
   "metadata": {},
   "source": [
    "Run the next cell to load the \"SIGNS\" dataset you are going to use."
   ]
  },
  {
   "cell_type": "code",
   "execution_count": 2,
   "metadata": {
    "collapsed": true
   },
   "outputs": [],
   "source": [
    "# Loading the data (signs)\n",
    "X_train_orig, Y_train_orig, X_test_orig, Y_test_orig, classes = load_dataset()"
   ]
  },
  {
   "cell_type": "markdown",
   "metadata": {},
   "source": [
    "As a reminder, the SIGNS dataset is a collection of 6 signs representing numbers from 0 to 5.\n",
    "\n",
    "<img src=\"images/SIGNS.png\" style=\"width:800px;height:300px;\">\n",
    "\n",
    "The next cell will show you an example of a labelled image in the dataset. Feel free to change the value of `index` below and re-run to see different examples. "
   ]
  },
  {
   "cell_type": "code",
   "execution_count": 6,
   "metadata": {},
   "outputs": [
    {
     "name": "stdout",
     "output_type": "stream",
     "text": [
      "y = 2\n"
     ]
    },
    {
     "data": {
      "image/png": "iVBORw0KGgoAAAANSUhEUgAAAP8AAAD8CAYAAAC4nHJkAAAABHNCSVQICAgIfAhkiAAAAAlwSFlz\nAAALEgAACxIB0t1+/AAAIABJREFUeJztfWmMZMeR3hd19D19zMnmzJAcksNzxBmKQ4oUKWrEQ6YO\niOs/9Gq9C9ogwD9rQwuvsaRswMAaMEDDwGL9wzBAeOUlsNrVcrWSSMmyZHJI6uA9FO9jOORw7qNn\nprun767uqvSPqnkZka8yO6u6p4rcFx/Q6Hwv82VmvXpZLyIj4gsyxkChUGQPuXZPQKFQtAe6+BWK\njEIXv0KRUejiVygyCl38CkVGoYtfocgodPErFBnFshY/Ed1DRHuJ6CMienilJqVQKM4/qFknHyLK\nA/gQwN0AjgB4FcC3jTHvrdz0FArF+UJhGdfeBOAjY8x+ACCiHwC4F4B38a9ePWQ2b9xYPaBljLyi\nWP5EKNBF6qe1md/aFbhXjXXRyi+n8RsSvOK8O6yehwFWoEtT6+TI0WMYHR2L+gKXs/g3AjjMjo8A\n+ELogs0bN+IXTz5ePXCnR7EaCNUtpg5TH7/+/aDQyo2cR7oLe8L9XsOCFq/kn9MdwHjryNdFaqzQ\nffTck9CtavoBNnWLAGDI18xtyIqmEhiJNwzc08AUw+0q/laBLz5e+vbcENbH1++9L7KvFmz4EdGD\nRLSHiPacGR0938MpFIpILOfNfxTAZna8qXZOwBjzKIBHAWD757bxV5a3Y/d3kLy1gZrAjyl/Wbo/\nuiTe2qFOQm+RQJXv1RzqJzVJ/gHCTX1DicPwDfe3i0bkdxZ4GTe7NxX70m4nuPQpP2cDUmkTAuxy\n3vyvAthKRFuIqAPA7wN4chn9KRSKFqLpN78xZpGI/g2AXwLIA/ieMebdFZuZQqE4r1iO2A9jzM8B\n/HyF5qJQKFqIZS3+lURIp4veCw3u3BtWCu03xLULTsq/KSsUW3dXXY7dnO5H/k18Zyx/O/9eRyOK\npa+PBr5n796Ds9MtrnGtH+yeBvZKwl+a73uRTYP3O9R99L0iT9keeS01daDuvQpFRqGLX6HIKFos\n9psokTJWok537xHx6syjuRGiPWiiujABeyRF3o9