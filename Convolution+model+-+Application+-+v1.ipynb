{
 "cells": [
  {
   "cell_type": "markdown",
   "metadata": {},
   "source": [
    "# Convolutional Neural Networks: Application\n",
    "\n",
    "Welcome to Course 4's second assignment! In this notebook, you will:\n",
    "\n",
    "- Implement helper functions that you will use when implementing a TensorFlow model\n",
    "- Implement a fully functioning ConvNet using TensorFlow \n",
    "\n",
    "**After this assignment you will be able to:**\n",
    "\n",
    "- Build and train a ConvNet in TensorFlow for a classification problem \n",
    "\n",
    "We assume here that you are already familiar with TensorFlow. If you are not, please refer the *TensorFlow Tutorial* of the third week of Course 2 (\"*Improving deep neural networks*\")."
   ]
  },
  {
   "cell_type": "markdown",
   "metadata": {},
   "source": [
    "## 1.0 - TensorFlow model\n",
    "\n",
    "In the previous assignment, you built helper functions using numpy to understand the mechanics behind convolutional neural networks. Most practical applications of deep learning today are built using programming frameworks, which have many built-in functions you can simply call. \n",
    "\n",
    "As usual, we will start by loading in the packages. "
   ]
  },
  {
   "cell_type": "code",
   "execution_count": 1,
   "metadata": {
    "collapsed": true
   },
   "outputs": [],
   "source": [
    "import math\n",
    "import numpy as np\n",
    "import h5py\n",
    "import matplotlib.pyplot as plt\n",
    "import scipy\n",
    "from PIL import Image\n",
    "from scipy import ndimage\n",
    "import tensorflow as tf\n",
    "from tensorflow.python.framework import ops\n",
    "from cnn_utils import *\n",
    "\n",
    "%matplotlib inline\n",
    "np.random.seed(1)"
   ]
  },
  {
   "cell_type": "markdown",
   "metadata": {},
   "source": [
    "Run the next cell to load the \"SIGNS\" dataset you are going to use."
   ]
  },
  {
   "cell_type": "code",
   "execution_count": 2,
   "metadata": {
    "collapsed": true
   },
   "outputs": [],
   "source": [
    "# Loading the data (signs)\n",
    "X_train_orig, Y_train_orig, X_test_orig, Y_test_orig, classes = load_dataset()"
   ]
  },
  {
   "cell_type": "markdown",
   "metadata": {},
   "source": [
    "As a reminder, the SIGNS dataset is a collection of 6 signs representing numbers from 0 to 5.\n",
    "\n",
    "<img src=\"images/SIGNS.png\" style=\"width:800px;height:300px;\">\n",
    "\n",
    "The next cell will show you an example of a labelled image in the dataset. Feel free to change the value of `index` below and re-run to see different examples. "
   ]
  },
  {
   "cell_type": "code",
   "execution_count": 6,
   "metadata": {},
   "outputs": [
    {
     "name": "stdout",
     "output_type": "stream",
     "text": [
      "y = 2\n"
     ]
    },
    {
     "data": {
      "image/png": "iVBORw0KGgoAAAANSUhEUgAAAP8AAAD8CAYAAAC4nHJkAAAABHNCSVQICAgIfAhkiAAAAAlwSFlz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\nUO8CnlJcx0rp9bxP2b/YD+CeUjnX5MPzBzj9V/hxmbVzTYK2rm9