{
 "cells": [
  {
   "cell_type": "markdown",
   "metadata": {},
   "source": [
    "# Convolutional Neural Networks: Step by Step\n",
    "\n",
    "Welcome to Course 4's first assignment! In this assignment, you will implement convolutional (CONV) and pooling (POOL) layers in numpy, including both forward propagation and (optionally) backward propagation. \n",
    "\n",
    "**Notation**:\n",
    "- Superscript $[l]$ denotes an object of the $l^{th}$ layer. \n",
    "    - Example: $a^{[4]}$ is the $4^{th}$ layer activation. $W^{[5]}$ and $b^{[5]}$ are the $5^{th}$ layer parameters.\n",
    "\n",
    "\n",
    "- Superscript $(i)$ denotes an object from the $i^{th}$ example. \n",
    "    - Example: $x^{(i)}$ is the $i^{th}$ training example input.\n",
    "    \n",
    "    \n",
    "- Lowerscript $i$ denotes the $i^{th}$ entry of a vector.\n",
    "    - Example: $a^{[l]}_i$ denotes the $i^{th}$ entry of the activations in layer $l$, assuming this is a fully connected (FC) layer.\n",
    "    \n",
    "    \n",
    "- $n_H$, $n_W$ and $n_C$ denote respectively the height, width and number of channels of a given layer. If you want to reference a specific layer $l$, you can also write $n_H^{[l]}$, $n_W^{[l]}$, $n_C^{[l]}$. \n",
    "- $n_{H_{prev}}$, $n_{W_{prev}}$ and $n_{C_{prev}}$ denote respectively the height, width and number of channels of the previous layer. If referencing a specific layer $l$, this could also be denoted $n_H^{[l-1]}$, $n_W^{[l-1]}$, $n_C^{[l-1]}$. \n",
    "\n",
    "We assume that you are already familiar with `numpy` and/or have completed the previous courses of the specialization. Let's get started!"
   ]
  },
  {
   "cell_type": "markdown",
   "metadata": {},
   "source": [
    "## 1 - Packages\n",
    "\n",
    "Let's first import all the packages that you will need during this assignment. \n",
    "- [numpy](www.numpy.org) is the fundamental package for scientific computing with Python.\n",
    "- [matplotlib](http://matplotlib.org) is a library to plot graphs in Python.\n",
    "- np.random.seed(1) is used to keep all the random function calls consistent. It will help us grade your work."
   ]
  },
  {
   "cell_type": "code",
   "execution_count": 1,
   "metadata": {
    "collapsed": true
   },
   "outputs": [],
   "source": [
    "import numpy as np\n",
    "import h5py\n",
    "import matplotlib.pyplot as plt\n",
    "\n",
    "%matplotlib inline\n",
    "plt.rcParams['figure.figsize'] = (5.0, 4.0) # set default size of plots\n",
    "plt.rcParams['image.interpolation'] = 'nearest'\n",
    "plt.rcParams['image.cmap'] = 'gray'\n",
    "\n",
    "%load_ext autoreload\n",
    "%autoreload 2\n",
    "\n",
    "np.random.seed(1)"
   ]
  },
  {
   "cell_type": "markdown",
   "metadata": {},
   "source": [
    "## 2 - Outline of the Assignment\n",
    "\n",
    "You will be implementing the building blocks of a convolutional neural network! Each function you will implement will have detailed instructions that will walk you through the steps needed:\n",
    "\n",
    "- Convolution functions, including:\n",
    "    - Zero Padding\n",
    "    - Convolve window \n",
    "    - Convolution forward\n",
    "    - Convolution backward (optional)\n",
    "- Pooling functions, including:\n",
    "    - Pooling forward\n",
    "    - Create mask \n",
    "    - Distribute value\n",
    "    - Pooling backward (optional)\n",
    "    \n",
    "This notebook will ask you to implement these functions from scratch in `numpy`. In the next notebook, you will use the TensorFlow equivalents of these functions to build the following model:\n",
    "\n",
    "<img src=\"images/model.png\" style=\"width:800px;height:300px;\">\n",
    "\n",
    "**Note** that for every forward function, there is its corresponding backward equivalent. Hence, at every step of your forward module you will store some parameters in a cache. These parameters are used to compute gradients during backpropagation. "
   ]
  },
  {
   "cell_type": "markdown",
   "metadata": {},
   "source": [
    "## 3 - Convolutional Neural Networks\n",
    "\n",
    "Although programming frameworks make convolutions easy to use, they remain one of the hardest concepts to understand in Deep Learning. A convolution layer transforms an input volume into an output volume of different size, as shown below. \n",
    "\n",
    "<img src=\"images/conv_nn.png\" style=\"width:350px;height:200px;\">\n",
    "\n",
    "In this part, you will build every step of the convolution layer. You will first implement two helper functions: one for zero padding and the other for computing the convolution function itself. "
   ]
  },
  {
   "cell_type": "markdown",
   "metadata": {},
   "source": [
    "### 3.1 - Zero-Padding\n",
    "\n",
    "Zero-padding adds zeros around the border of an image:\n",
    "\n",
    "<img src=\"images/PAD.png\" style=\"width:600px;height:400px;\">\n",
    "<caption><center> <u> <font color='purple'> **Figure 1** </u><font color='purple'>  : **Zero-Padding**<br> Image (3 channels, RGB) with a padding of 2. </center></caption>\n",
    "\n",
    "The main benefits of padding are the following:\n",
    "\n",
    "- It allows you to use a CONV layer without necessarily shrinking the height and width of the volumes. This is important for building deeper networks, since otherwise the height/width would shrink as you go to deeper layers. An important special case is the \"same\" convolution, in which the height/width is exactly preserved after one layer. \n",
    "\n",
    "- It helps us keep more of the information at the border of an image. Without padding, very few values at the next layer would be affected by pixels as the edges of an image.\n",
    "\n",
    "**Exercise**: Implement the following function, which pads all the images of a batch of examples X with zeros. [Use np.pad](https://docs.scipy.org/doc/numpy/reference/generated/numpy.pad.html). Note if you want to pad the array \"a\" of shape $(5,5,5,5,5)$ with `pad = 1` for the 2nd dimension, `pad = 3` for the 4th dimension and `pad = 0` for the rest, you would do:\n",
    "```python\n",
    "a = np.pad(a, ((0,0), (1,1), (0,0), (3,3), (0,0)), 'constant', constant_values = (..,..))\n",
    "```"
   ]
  },
  {
   "cell_type": "code",
   "execution_count": 20,
   "metadata": {},
   "outputs": [],
   "source": [
    "# GRADED FUNCTION: zero_pad\n",
    "\n",
    "def zero_pad(X, pad):\n",
    "    \"\"\"\n",
    "    Pad with zeros all images of the dataset X. The padding is applied to the height and width of an image, \n",
    "    as illustrated in Figure 1.\n",
    "    \n",
    "    Argument:\n",
    "    X -- python numpy array of shape (m, n_H, n_W, n_C) representing a batch of m images\n",
    "    pad -- integer, amount of padding around each image on vertical and horizontal dimensions\n",
    "    \n",
    "    Returns:\n",
    "    X_pad -- padded image of shape (m, n_H + 2*pad, n_W + 2*pad, n_C)\n",
    "    \"\"\"\n",
    "    \n",
    "    ### START CODE HERE ### (≈ 1 line)\n",
    "    X_pad = np.pad(X, ((0,0),(pad,pad),(pad,pad),(0,0)), 'constant', constant_values = (0,0))\n",
    "    ### END CODE HERE ###\n",
    "    \n",
    "    return X_pad"
   ]
  },
  {
   "cell_type": "code",
   "execution_count": 21,
   "metadata": {},
   "outputs": [
    {
     "name": "stdout",
     "output_type": "stream",
     "text": [
      "x.shape = (4, 3, 3, 2)\n",
      "x_pad.shape = (4, 7, 7, 2)\n",
      "x[1,1] = [[ 0.90085595 -0.68372786]\n",
      " [-0.12289023 -0.93576943]\n",
      " [-0.26788808  0.53035547]]\n",
      "x_pad[1,1] = [[ 0.  0.]\n",
      " [ 0.  0.]\n",
      " [ 0.  0.]\n",
      " [ 0.  0.]\n",
      " [ 0.  0.]\n",
      " [ 0.  0.]\n",
      " [ 0.  0.]]\n"
     ]
    },
    {
     "data": {
      "text/plain": [
       "<matplotlib.image.AxesImage at 0x7efc7879f400>"
      ]
     },
     "execution_count": 21,
     "metadata": {},
     "output_type": "execute_result"
    },
    {
     "data": {
      "image/png": "iVBORw0KGgoAAAANSUhEUgAAAUgAAACuCAYAAABUfpQYAAAABHNCSVQICAgIfAhkiAAAAAlwSFlz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\n0swshQPSzCyFA9LMLIUD0swsxf8DtS5DRn4HHEIAAAAASUVORK5CYII=\n",
      "text/plain": [
       "<matplotlib.figure.Figure at 0x7efc787fae48>"
      ]
     },
     "metadata": {},
     "output_type": "display_data"
    }
   ],
   "source": [
    "np.random.seed(1)\n",
    "x = np.random.randn(4, 3, 3, 2)\n",
    "x_pad = zero_pad(x, 2)\n",
    "print (\"x.shape =\", x.shape)\n",
    "print (\"x_pad.shape =\", x_pad.shape)\n",
    "print (\"x[1,1] =\", x[1,1])\n",
    "print (\"x_pad[1,1] =\", x_pad[1,1])\n",
    "\n",
    "fig, axarr = plt.subplots(1, 2)\n",
    "axarr[0].set_title('x')\n",
    "axarr[0].imshow(x[0,:,:,0])\n",
    "axarr[1].set_title('x_pad')\n",
    "axarr[1].imshow(x_pad[0,:,:,0])"
   ]
  },
  {
   "cell_type": "markdown",
   "metadata": {},
   "source": [
    "**Expected Output**:\n",
    "\n",
    "<table>\n",
    "    <tr>\n",
    "        <td>\n",
    "            **x.shape**:\n",
    "        </td>\n",
    "        <td>\n",
    "           (4, 3, 3, 2)\n",
    "        </td>\n",
    "    </tr>\n",
    "        <tr>\n",
    "        <td>\n",
    "            **x_pad.shape**:\n",
    "        </td>\n",
    "        <td>\n",
    "           (4, 7, 7, 2)\n",
    "        </td>\n",
    "    </tr>\n",
    "        <tr>\n",
    "        <td>\n",
    "            **x[1,1]**:\n",
    "        </td>\n",
    "        <td>\n",
    "           [[ 0.90085595 -0.68372786]\n",
    " [-0.12289023 -0.93576943]\n",
    " [-0.26788808  0.53035547]]\n",
    "        </td>\n",
    "    </tr>\n",
    "        <tr>\n",
    "        <td>\n",
    "            **x_pad[1,1]**:\n",
    "        </td>\n",
    "        <td>\n",
    "           [[ 0.  0.]\n",
    " [ 0.  0.]\n",
    " [ 0.  0.]\n",
    " [ 0.  0.]\n",
    " [ 0.  0.]\n",
    " [ 0.  0.]\n",
    " [ 0.  0.]]\n",
    "        </td>\n",
    "    </tr>\n",
    "\n",
    "</table>"
   ]
  },
  {
   "cell_type": "markdown",
   "metadata": {},
   "source": [
    "### 3.2 - Single step of convolution \n",
    "\n",
    "In this part, implement a single step of convolution, in which you apply the filter to a single position of the input. This will be used to build a convolutional unit, which: \n",
    "\n",
    "- Takes an input volume \n",
    "- Applies a filter at every position of the input\n",
    "- Outputs another volume (usually of different size)\n",
    "\n",
    "<img src=\"images/Convolution_schematic.gif\" style=\"width:500px;height:300px;\">\n",
    "<caption><center> <u> <font color='purple'> **Figure 2** </u><font color='purple'>  : **Convolution operation**<br> with a filter of 2x2 and a stride of 1 (stride = amount you move the window each time you slide) </center></caption>\n",
    "\n",
    "In a computer vision application, each value in the matrix on the left corresponds to a single pixel value, and we convolve a 3x3 filter with the image by multiplying its values element-wise with the original matrix, then summing them up and adding a bias. In this first step of the exercise, you will implement a single step of convolution, corresponding to applying a filter to just one of the positions to get a single real-valued output. \n",
    "\n",
    "Later in this notebook, you'll apply this function to multiple positions of the input to implement the full convolutional operation. \n",
    "\n",
    "**Exercise**: Implement conv_single_step(). [Hint](https://docs.scipy.org/doc/numpy-1.13.0/reference/generated/numpy.sum.html).\n"
   ]
  },
  {
   "cell_type": "code",
   "execution_count": 22,
   "metadata": {
    "collapsed": true
   },
   "outputs": [],
   "source": [
    "# GRADED FUNCTION: conv_single_step\n",
    "\n",
    "def conv_single_step(a_slice_prev, W, b):\n",
    "    \"\"\"\n",
    "    Apply one filter defined by parameters W on a single slice (a_slice_prev) of the output activation \n",
    "    of the previous layer.\n",
    "    \n",
    "    Arguments:\n",
    "    a_slice_prev -- slice of input data of shape (f, f, n_C_prev)\n",
    "    W -- Weight parameters contained in a window - matrix of shape (f, f, n_C_prev)\n",
    "    b -- Bias parameters contained in a window - matrix of shape (1, 1, 1)\n",
    "    \n",
    "    Returns:\n",
    "    Z -- a scalar value, result of convolving the sliding window (W, b) on a slice x of the input data\n",
    "    \"\"\"\n",
    "\n",
    "    ### START CODE HERE ### (≈ 2 lines of code)\n",
    "    # Element-wise product between a_slice and W. Do not add the bias yet.\n",
    "    s = np.multiply(a_slice_prev, W)\n",
    "    # Sum over all entries of the volume s.\n",
    "    Z = np.sum(s)\n",
    "    # Add bias b to Z. Cast b to a float() so that Z results in a scalar value.\n",
    "    Z = Z + b\n",
    "    ### END CODE HERE ###\n",
    "\n",
    "    return Z"
   ]
  },
  {
   "cell_type": "code",
   "execution_count": 23,
   "metadata": {},
   "outputs": [
    {
     "name": "stdout",
     "output_type": "stream",
     "text": [
      "Z = [[[-6.99908945]]]\n"
     ]
    }
   ],
   "source": [
    "np.random.seed(1)\n",
    "a_slice_prev = np.random.randn(4, 4, 3)\n",
    "W = np.random.randn(4, 4, 3)\n",
    "b = np.random.randn(1, 1, 1)\n",
    "\n",
    "Z = conv_single_step(a_slice_prev, W, b)\n",
    "print(\"Z =\", Z)"
   ]
  },
  {
   "cell_type": "markdown",
   "metadata": {},
   "source": [
    "**Expected Output**:\n",
    "<table>\n",
    "    <tr>\n",
    "        <td>\n",
    "            **Z**\n",
    "        </td>\n",
    "        <td>\n",
    "            -6.99908945068\n",
    "        </td>\n",
    "    </tr>\n",
    "\n",
    "</table>"
   ]
  },
  {
   "cell_type": "markdown",
   "metadata": {
    "collapsed": true
   },
   "source": [
    "### 3.3 - Convolutional Neural Networks - Forward pass\n",
    "\n",
    "In the forward pass, you will take many filters and convolve them on the input. Each 'convolution' gives you a 2D matrix output. You will then stack these outputs to get a 3D volume: \n",
    "\n",
    "<center>\n",
    "<video width=\"620\" height=\"440\" src=\"images/conv_kiank.mp4\" type=\"video/mp4\" controls>\n",
    "</video>\n",
    "</center>\n",
    "\n",
    "**Exercise**: Implement the function below to convolve the filters W on an input activation A_prev. This function takes as input A_prev, the activations output by the previous layer (for a batch of m inputs), F filters/weights denoted by W, and a bias vector denoted by b, where each filter has its own (single) bias. Finally you also have access to the hyperparameters dictionary which contains the stride and the padding. \n",
    "\n",
    "**Hint**: \n",
    "1. To select a 2x2 slice at the upper left corner of a matrix \"a_prev\" (shape (5,5,3)), you would do:\n",
    "```python\n",
    "a_slice_prev = a_prev[0:2,0:2,:]\n",
    "```\n",
    "This will be useful when you will define `a_slice_prev` below, using the `start/end` indexes you will define.\n",
    "2. T