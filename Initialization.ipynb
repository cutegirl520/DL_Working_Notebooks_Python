{
 "cells": [
  {
   "cell_type": "markdown",
   "metadata": {},
   "source": [
    "# Initialization\n",
    "\n",
    "Welcome to the first assignment of \"Improving Deep Neural Networks\". \n",
    "\n",
    "Training your neural network requires specifying an initial value of the weights. A well chosen initialization method will help learning.  \n",
    "\n",
    "If you completed the previous course of this specialization, you probably followed our instructions for weight initialization, and it has worked out so far. But how do you choose the initialization for a new neural network? In this notebook, you will see how different initializations lead to different results. \n",
    "\n",
    "A well chosen initialization can:\n",
    "- Speed up the convergence of gradient descent\n",
    "- Increase the odds of gradient descent converging to a lower training (and generalization) error \n",
    "\n",
    "To get started, run the following cell to load the packages and the planar dataset you will try to classify."
   ]
  },
  {
   "cell_type": "code",
   "execution_count": 1,
   "metadata": {},
   "outputs": [
    {
     "data": {
      "image/png": "iVBORw0KGgoAAAANSUhEUgAAAbcAAAD8CAYAAAD0f+rwAAAABHNCSVQICAgIfAhkiAAAAAlwSFlz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\n47Hn+V9dRHVvw9AZr/jd1/SKX